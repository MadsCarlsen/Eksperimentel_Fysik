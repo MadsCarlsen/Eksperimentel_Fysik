{
 "cells": [
  {
   "cell_type": "code",
   "execution_count": 40,
   "metadata": {},
   "outputs": [],
   "source": [
    "import numpy as np\n",
    "import matplotlib.pyplot as plt\n",
    "from scipy.signal import find_peaks\n",
    "from scipy import odr\n",
    "from scipy.optimize import curve_fit\n",
    "from scipy.stats import chi2"
   ]
  },
  {
   "cell_type": "code",
   "execution_count": 125,
   "metadata": {},
   "outputs": [],
   "source": [
    "# Preamble:\n",
    "plt.rc('text', usetex=True)\n",
    "plt.rc(\"axes\", labelsize=18)\n",
    "plt.rc(\"xtick\", labelsize=18, top=True, direction=\"in\")\n",
    "plt.rc(\"ytick\", labelsize=18, right=True, direction=\"in\")\n",
    "plt.rc(\"axes\", titlesize=18)\n",
    "plt.rc(\"legend\", fontsize=15)\n",
    "plt.rcParams['axes.linewidth'] = 1\n",
    "plt.rcParams['xtick.minor.width'] = 1\n",
    "plt.rcParams['xtick.major.width'] = 1\n",
    "plt.rcParams['ytick.minor.width'] = 1\n",
    "plt.rcParams['ytick.major.width'] = 1\n",
    "plt.rcParams['xtick.major.size'] = 5\n",
    "plt.rcParams['xtick.minor.size'] = 3\n",
    "plt.rcParams['ytick.major.size'] = 5\n",
    "plt.rcParams['ytick.minor.size'] = 3"
   ]
  },
  {
   "cell_type": "code",
   "execution_count": 2,
   "metadata": {},
   "outputs": [],
   "source": [
    "#Funktioner til at finde peaks\n",
    "def slope_max(slope,volt,intensity): \n",
    "    volt_slope = volt[slope[0]:slope[1]+1]\n",
    "    intensity_slope = intensity[slope[0]:slope[1]+1]\n",
    "    unique_volt = np.array(sorted(list(set(volt_slope))))\n",
    "    slope_int = np.array([np.mean([intensity_slope[i] for i,volt_j in enumerate(volt_slope) if volt_j == volt_i]) for volt_i in unique_volt])\n",
    "    max_peaks = find_peaks(slope_int,distance=1,width=1)[0]\n",
    "    min_peaks = find_peaks(-1*slope_int,distance=1,width=1)[0]\n",
    "    int_to_sort = np.append(slope_int[max_peaks],slope_int[min_peaks])\n",
    "    volt_to_sort = np.append(unique_volt[max_peaks],unique_volt[min_peaks])\n",
    "    filter_list = np.argsort(volt_to_sort)\n",
    "    return int_to_sort[filter_list],volt_to_sort[filter_list]\n",
    "\n",
    "\n",
    "def max_several_files(max_file_num,file_name): \n",
    "    rise_max = []\n",
    "    fall_max = []\n",
    "    rise_volts = []\n",
    "    fall_volts = []\n",
    "    \n",
    "    for i in range(max_file_num): \n",
    "        print(i)\n",
    "        \n",
    "        if i < 9: \n",
    "            time,intensity,volt = load_file(f'{file_name}_0{i+1}')\n",
    "        else: \n",
    "            time,intensity,volt = load_file(f'{file_name}_{i+1}')\n",
    "        if len(volt) < 1000:\n",
    "            continue \n",
    "        else: \n",
    "            max_peaks = find_peaks(volt,distance=1000,width=100)[0]\n",
    "            min_peaks = find_peaks(-1*volt,distance=1000,width=100)[0]\n",
    "            rise_slopes,fall_slopes = find_slopes(max_peaks,min_peaks)\n",
    "\n",
    "            for rise in rise_slopes:\n",
    "                int_max,volt_max = slope_max(rise,volt,intensity)\n",
    "                if len(volt_max) == 10:\n",
    "                    rise_max.append(int_max)\n",
    "                    rise_volts.append(volt_max)\n",
    "                #print(f'Rise:{len(volt_max)}')\n",
    "                \n",
    "            for fall in fall_slopes: \n",
    "                int_max,volt_max = slope_max(fall,volt,intensity)\n",
    "                if len(volt_max) == 10:\n",
    "                    fall_max.append(int_max)\n",
    "                    fall_volts.append(volt_max)\n",
    "                #print(f'Fall:{len(volt_max)}')\n",
    "            \n",
    "    rise_mean = np.mean(rise_max,axis=0)\n",
    "    rise_error = np.std(rise_max,ddof=1,axis=0)/np.sqrt(len(rise_max))\n",
    "    fall_mean = np.mean(fall_max,axis=0)\n",
    "    fall_error = np.std(fall_max,ddof=1,axis=0)/np.sqrt(len(fall_max))\n",
    "    volt_rise_mean = np.mean(rise_volts,axis=0)\n",
    "    rise_volt_error = np.std(rise_volts,ddof=1,axis=0)/np.sqrt(len(rise_volts))\n",
    "    volt_fall_mean = np.mean(fall_volts,axis=0)\n",
    "    fall_volt_error = np.std(fall_volts,ddof=1,axis=0)/np.sqrt(len(fall_volts))\n",
    "    print(f'Nr. of datapoints: {len(rise_max)}')\n",
    "    return volt_rise_mean,rise_volt_error,volt_fall_mean,fall_volt_error,rise_mean,rise_error,fall_mean,fall_error\n"
   ]
  },
  {
   "cell_type": "code",
   "execution_count": 3,
   "metadata": {},
   "outputs": [],
   "source": [
    "#volt_rise,volt_rise_error,volt_fall,volt_fall_error,rise_max,\\\n",
    "#rise_max_error,fall_max,fall_max_error = max_several_files(10,'Dag2_2')"
   ]
  },
  {
   "cell_type": "code",
   "execution_count": 66,
   "metadata": {},
   "outputs": [],
   "source": [
    "def load_file(name): \n",
    "    #data = np.loadtxt('data/Test2/' + name + '.csv',skiprows=2,delimiter=',').T \n",
    "    data = np.loadtxt('E:\\Eksperimentel_fysik\\Michelson_interferometer\\\\' + name + '.csv',skiprows=2,delimiter=',').T\n",
    "    return data\n",
    "\n",
    "def find_slopes(top, bot):\n",
    "    rise = []\n",
    "    fall = []\n",
    "    first_rising = top[0] > bot[0]          \n",
    "    last_rising = top[-1] > bot[-1]\n",
    "    max_len = max(len(top), len(bot))\n",
    "    if first_rising and last_rising:\n",
    "        fall = [(top[i], bot[i+1]) for i in range(max_len - 1)]\n",
    "        rise = [(bot[i], top[i] ) for i in range(max_len)]\n",
    "    elif first_rising and not last_rising:\n",
    "        fall = [(top[i], bot[i+1]) for i in range(max_len - 1)]\n",
    "        rise = [(bot[i],top[i]) for i in range(max_len - 1)]\n",
    "    elif not first_rising and not last_rising:\n",
    "        fall = [(top[i], bot[i]) for i in range(max_len)]\n",
    "        rise = [(bot[i],top[i+1]) for i in range(max_len - 1)]\n",
    "    elif not first_rising and last_rising:\n",
    "        fall = [(top[i], bot[i]) for i in range(max_len - 1)]\n",
    "        rise = [(bot[i],top[i+1]) for i in range(max_len -1)]\n",
    "    else:\n",
    "        print('You fucked it up fam')\n",
    "    return rise, fall\n",
    "\n",
    "def slope_intensity(slope,volt,intensity): \n",
    "    volt_slope = volt[slope[0]:slope[1]+1]\n",
    "    intensity_slope = intensity[slope[0]:slope[1]+1]\n",
    "    unique_volt = sorted(list(set(volt_slope)))\n",
    "    slope_int = [np.mean([intensity_slope[i] for i,volt_j in enumerate(volt_slope) if volt_j == volt_i]) for volt_i in unique_volt]\n",
    "    return slope_int, unique_volt\n",
    "\n",
    "def mean_slopes(slope_list,volt,intensity): \n",
    "    slope_ints = []\n",
    "    for slope in slope_list: \n",
    "        s_int,unique_volt = slope_intensity(slope,volt,intensity)\n",
    "        slope_ints.append(s_int)\n",
    "    mean_slope = np.mean(slope_ints,axis=0)\n",
    "    error_slope = np.std(slope_ints,axis=0,ddof=1)/np.sqrt(len(slope_ints))\n",
    "    return unique_volt,mean_slope,error_slope\n",
    "\n",
    "def mean_several_files(max_file_num,file_name,N,to_print=False): \n",
    "    rise_ints = []\n",
    "    fall_ints = []\n",
    "    volt_to_return = []\n",
    "    for i in range(max_file_num): \n",
    "        print(i)\n",
    "        \n",
    "        if i < 9: \n",
    "            time,intensity,volt = load_file(f'{file_name}_0{i+1}')\n",
    "        else: \n",
    "            time,intensity,volt = load_file(f'{file_name}_{i+1}')\n",
    "        if len(volt) < 1000:\n",
    "            continue \n",
    "        else: \n",
    "            max_peaks = find_peaks(volt,distance=1000,width=100)[0]\n",
    "            min_peaks = find_peaks(-1*volt,distance=1000,width=100)[0]\n",
    "            rise_slopes,fall_slopes = find_slopes(max_peaks,min_peaks)\n",
    "\n",
    "            for rise in rise_slopes:\n",
    "                s_int,unique_volt = slope_intensity(rise,volt,intensity)\n",
    "                if len(unique_volt) == N:\n",
    "                    rise_ints.append(s_int)\n",
    "                    volt_to_return = unique_volt\n",
    "                if to_print: \n",
    "                    print(f'Rise:{len(unique_volt)}')\n",
    "                \n",
    "            for fall in fall_slopes: \n",
    "                s_int,unique_volt = slope_intensity(fall,volt,intensity)\n",
    "                if len(unique_volt) == N:\n",
    "                    fall_ints.append(s_int)\n",
    "                    volt_to_return = unique_volt\n",
    "                if to_print: \n",
    "                    print(f'Fall:{len(unique_volt)}')\n",
    "            \n",
    "    rise_mean = np.mean(rise_ints,axis=0)\n",
    "    rise_error = np.std(rise_ints,ddof=1,axis=0)/np.sqrt(len(rise_ints))\n",
    "    fall_mean = np.mean(fall_ints,axis=0)\n",
    "    fall_error = np.std(fall_ints,ddof=1,axis=0)/np.sqrt(len(fall_ints)) \n",
    "    return volt_to_return,rise_mean,rise_error,fall_mean,fall_error"
   ]
  },
  {
   "cell_type": "code",
   "execution_count": 58,
   "metadata": {},
   "outputs": [
    {
     "name": "stdout",
     "output_type": "stream",
     "text": [
      "0\n",
      "1\n",
      "2\n",
      "3\n",
      "4\n",
      "5\n",
      "6\n",
      "7\n",
      "8\n",
      "9\n",
      "10\n",
      "11\n",
      "12\n",
      "13\n",
      "14\n",
      "15\n",
      "16\n",
      "17\n",
      "18\n",
      "19\n",
      "20\n",
      "21\n",
      "22\n",
      "23\n",
      "24\n",
      "25\n",
      "26\n",
      "27\n",
      "28\n",
      "29\n",
      "30\n",
      "31\n"
     ]
    }
   ],
   "source": [
    "v_list,rise_mean,rise_error,fall_mean,fall_error = mean_several_files(32,'Dag2_2\\Dag2_2',N=105)\n",
    "v_list = np.array(v_list)\n",
    "v_error = np.copy(v_list)*0.5 \n",
    "v_list = v_list*10"
   ]
  },
  {
   "cell_type": "code",
   "execution_count": 6,
   "metadata": {},
   "outputs": [],
   "source": [
    "def Gauss_fit(x,y,x_err,y_err,guess): \n",
    "    def Gauss(p,x): \n",
    "        a,b,c = p\n",
    "        return a*np.exp(-(x-b)**2/(2*c**2))\n",
    "    #Lav quad model \n",
    "    quad_model = odr.Model(Gauss)\n",
    "    #Lav realData\n",
    "    data = odr.RealData(x,y,sx=x_err,sy=y_err)\n",
    "    #Setup ODR \n",
    "    odr_model = odr.ODR(data,quad_model,beta0=guess)\n",
    "    out = odr_model.run()\n",
    "    p_opt = out.beta\n",
    "    p_err = out.sd_beta\n",
    "    #plt.plot(x,Gauss(p_opt,x))\n",
    "    return p_opt[1],p_err[1] #Retunerer middelværdien! \n",
    "\n",
    "def find_max(x,y,x_err,y_err,width=5): \n",
    "    mean_list = []\n",
    "    error_list = []\n",
    "    \n",
    "    max_min = [1,-1]\n",
    "    \n",
    "    for extreme_type in max_min: \n",
    "        if extreme_type == -1: \n",
    "            y = -1*y - min(-1*y)\n",
    "        \n",
    "        peaks = find_peaks(y,width=2)[0]\n",
    "        \n",
    "        for peak in peaks: \n",
    "            if peak+1 < 6 or len(x)-peak+1 < 6: \n",
    "                width = min(peak,len(x)-peak+1)\n",
    "            y_fit = y[peak-width:peak+width+1]\n",
    "            x_fit = x[peak-width:peak+width+1]\n",
    "            x_fit_err = x_err[peak-width:peak+width+1]\n",
    "            y_fit_err = y_err[peak-width:peak+width+1]\n",
    "            guess = [5,x[peak],5]\n",
    "            mean,mean_err = Gauss_fit(x_fit,y_fit,x_fit_err,y_fit_err,guess)\n",
    "            mean_list.append(mean)\n",
    "            error_list.append(mean_err)\n",
    "        \n",
    "    mean_list = np.array(mean_list)\n",
    "    error_list = np.array(error_list)\n",
    "    filter_list = np.argsort(mean_list)\n",
    "    mean_list = mean_list[filter_list]\n",
    "    error_list = error_list[filter_list]\n",
    "    return mean_list,error_list"
   ]
  },
  {
   "cell_type": "code",
   "execution_count": 51,
   "metadata": {},
   "outputs": [],
   "source": [
    "gauss_rise_mean,gauss_rise_error = find_max(v_list,rise_mean,v_error,rise_error)\n",
    "gauss_fall_mean,gauss_fall_error = find_max(v_list,fall_mean,v_error,fall_error)"
   ]
  },
  {
   "cell_type": "code",
   "execution_count": 52,
   "metadata": {},
   "outputs": [
    {
     "data": {
      "text/plain": [
       "<ErrorbarContainer object of 3 artists>"
      ]
     },
     "execution_count": 52,
     "metadata": {},
     "output_type": "execute_result"
    },
    {
     "data": {
      "image/png": "[encoded data removed]",
      "text/plain": [
       "<Figure size 432x288 with 1 Axes>"
      ]
     },
     "metadata": {
      "needs_background": "light"
     },
     "output_type": "display_data"
    }
   ],
   "source": [
    "plt.errorbar(v_list,rise_mean,xerr=v_error,yerr=rise_error,fmt='o',ms=5,lw=2,capsize=3)\n",
    "plt.errorbar(v_list,fall_mean,xerr=v_error, yerr=fall_error,fmt='o',ms=5,lw=2,capsize=3)\n",
    "#plt.errorbar(volt_fall,fall_max,xerr=volt_fall_error,yerr=fall_max_error,fmt='o',ms=5,lw=2,capsize=3)"
   ]
  },
  {
   "cell_type": "code",
   "execution_count": 53,
   "metadata": {},
   "outputs": [
    {
     "data": {
      "text/plain": [
       "<ErrorbarContainer object of 3 artists>"
      ]
     },
     "execution_count": 53,
     "metadata": {},
     "output_type": "execute_result"
    },
    {
     "data": {
      "image/png": "[encoded data removed]",
      "text/plain": [
       "<Figure size 432x288 with 1 Axes>"
      ]
     },
     "metadata": {
      "needs_background": "light"
     },
     "output_type": "display_data"
    }
   ],
   "source": [
    "lambd = 633*1e-3 #µm\n",
    "dl_rise = [(i)*lambd/4 for i in range(len(gauss_rise_mean))]\n",
    "dl_fall = [(i)*lambd/4 for i in range(len(gauss_fall_mean))]\n",
    "dl_rise = np.array(dl_rise)\n",
    "\n",
    "plt.errorbar(gauss_rise_mean,dl_rise,xerr=0.5*gauss_rise_mean/10,fmt='--o',ms=5,lw=2,capsize=3)\n",
    "plt.errorbar(gauss_fall_mean,dl_rise,xerr=0.5*gauss_fall_mean/10,fmt='--o',ms=5,lw=2,capsize=3)"
   ]
  },
  {
   "cell_type": "code",
   "execution_count": 56,
   "metadata": {},
   "outputs": [
    {
     "name": "stdout",
     "output_type": "stream",
     "text": [
      "[0.01841936 7.37216854]\n",
      "[0.00042461 0.35016045]\n",
      "7.728051445722538 0.3864025722861269\n",
      "5.889044536348669 0.3403409246954933\n"
     ]
    },
    {
     "data": {
      "image/png": "[encoded data removed]",
      "text/plain": [
       "<Figure size 432x288 with 1 Axes>"
      ]
     },
     "metadata": {
      "needs_background": "light"
     },
     "output_type": "display_data"
    }
   ],
   "source": [
    "def v_lin_fit(delta_l,d,V_p):\n",
    "    return delta_l/d+V_p\n",
    "\n",
    "p_opt, p_cov = curve_fit(v_lin_fit,dl_rise,gauss_rise_mean,p0=[1/20,1], sigma=0.5*gauss_rise_mean/10, absolute_sigma=True)\n",
    "\n",
    "print(p_opt)\n",
    "print(np.sqrt(np.diag(p_cov)))\n",
    "\n",
    "plt.errorbar(dl_rise,gauss_rise_mean,yerr=0.5*gauss_rise_mean/10,fmt='o',ms=5,lw=2,capsize=3)\n",
    "#plt.errorbar(gauss_rise_mean,dl_rise, xerr=0.5*gauss_rise_mean/10,fmt='o',ms=5,lw=2,capsize=3)\n",
    "plt.plot(dl_rise,v_lin_fit(dl_rise,p_opt[0],p_opt[1]))\n",
    "\n",
    "print(gauss_rise_mean[0],0.5*gauss_rise_mean[0]/10)\n",
    "\n",
    "ch_min = np.sum(((gauss_rise_mean-v_lin_fit(dl_rise, p_opt[0],p_opt[1]))/(0.5*gauss_rise_mean/10))**2)\n",
    "p_val = chi2.cdf(ch_min,len(gauss_rise_mean)-2)\n",
    "\n",
    "print(ch_min,p_val)"
   ]
  },
  {
   "cell_type": "code",
   "execution_count": 11,
   "metadata": {},
   "outputs": [
    {
     "name": "stdout",
     "output_type": "stream",
     "text": [
      "Fittet værdi af b : 79.28761332438474\n",
      "Bud på usikkerheden af denne: 0.04547327376150818\n"
     ]
    },
    {
     "data": {
      "image/png": "[encoded data removed]",
      "text/plain": [
       "<Figure size 432x288 with 1 Axes>"
      ]
     },
     "metadata": {
      "needs_background": "light"
     },
     "output_type": "display_data"
    }
   ],
   "source": [
    "import numpy as np\n",
    "import matplotlib.pyplot as plt\n",
    "from scipy.signal import find_peaks\n",
    "from scipy import odr\n",
    "\n",
    "x = [73.41597, 74.28949, 75.16302, 76.03654, 76.91006, 77.78359, 78.66019, 79.53371,\n",
    " 80.40724, 81.28076, 82.15428, 83.0278,  83.9044, 84.77793, 85.65145]\n",
    "y = [3.9368,4.6951,5.3897,5.9806,6.4481,6.7780,6.9770,7.0344,6.9387,6.6858,6.2662,5.6932,4.9678,4.1469,3.2856,]\n",
    "x_err = [3.6707,3.7144,3.7581,3.8018,3.8455,3.8891,3.9330,3.9766,4.0203,4.0640,4.1077,4.1513,4.1952,4.2388,4.2825]\n",
    "y_err = [0.0565,0.0605,0.0533,0.0370,0.0268,0.0260,0.0278,0.0343,0.0406,0.0446,0.0449,0.0390,0.0355,0.0266,0.0260]\n",
    "\n",
    "guess = [5,80,5] #Et gæt til vores fitte-rutine\n",
    "\n",
    "def Gauss(p,x): \n",
    "    a,b,c = p #a = amp, b = middelværdi, c = varians \n",
    "    return a*np.exp(-(x-b)**2/(2*c**2))\n",
    "\n",
    "#Lav quad model \n",
    "quad_model = odr.Model(Gauss)\n",
    "#Lav realData\n",
    "data = odr.RealData(x,y,sx=x_err,sy=y_err)\n",
    "#Setup ODR \n",
    "odr_model = odr.ODR(data,quad_model,beta0=guess)\n",
    "out = odr_model.run() #Kør! \n",
    "p_opt = out.beta #Optimale parametre \n",
    "p_err = out.sd_beta #Usikkerhed på disse\n",
    "\n",
    "#out.pprint() <- Hvis du vil have fuldt output fra funktionen! \n",
    "\n",
    "print(f'Fittet værdi af b : {p_opt[1]}')\n",
    "print(f'Bud på usikkerheden af denne: {p_err[1]}')\n",
    "\n",
    "#Plot all the things! \n",
    "plt.errorbar(x,y,xerr=x_err,yerr=y_err,fmt='o',ms=5,lw=2,capsize=10)\n",
    "plt.plot(x,Gauss(p_opt,x))\n",
    "plt.xlabel('Driver voltage')\n",
    "plt.ylabel('Detector voltage')\n",
    "plt.show()"
   ]
  },
  {
   "cell_type": "code",
   "execution_count": 134,
   "metadata": {
    "scrolled": true
   },
   "outputs": [
    {
     "name": "stdout",
     "output_type": "stream",
     "text": [
      "0\n",
      "1\n",
      "2\n",
      "3\n",
      "4\n",
      "5\n",
      "6\n",
      "7\n",
      "8\n",
      "9\n",
      "10\n",
      "11\n",
      "12\n",
      "13\n",
      "14\n",
      "15\n",
      "16\n",
      "17\n",
      "18\n",
      "19\n",
      "20\n",
      "21\n",
      "22\n",
      "23\n",
      "24\n",
      "25\n",
      "26\n",
      "27\n",
      "28\n",
      "29\n",
      "30\n",
      "31\n",
      "clear\n",
      "0\n",
      "1\n",
      "2\n",
      "3\n",
      "4\n",
      "5\n",
      "6\n",
      "7\n",
      "8\n",
      "9\n",
      "10\n",
      "11\n",
      "12\n",
      "13\n",
      "14\n",
      "15\n",
      "16\n",
      "17\n",
      "18\n",
      "19\n",
      "20\n",
      "21\n",
      "22\n",
      "23\n",
      "24\n",
      "25\n",
      "26\n",
      "27\n",
      "28\n",
      "29\n",
      "30\n",
      "31\n",
      "100\n",
      "0\n",
      "1\n",
      "2\n",
      "3\n",
      "4\n",
      "5\n",
      "6\n",
      "7\n",
      "8\n",
      "9\n",
      "10\n",
      "11\n",
      "12\n",
      "13\n",
      "14\n",
      "15\n",
      "16\n",
      "17\n",
      "18\n",
      "19\n",
      "20\n",
      "21\n",
      "22\n",
      "23\n",
      "24\n",
      "25\n",
      "26\n",
      "27\n",
      "28\n",
      "29\n",
      "30\n",
      "31\n",
      "120\n",
      "0\n",
      "1\n",
      "2\n",
      "3\n",
      "4\n",
      "5\n",
      "6\n",
      "7\n",
      "8\n",
      "9\n",
      "10\n",
      "11\n",
      "12\n",
      "13\n",
      "14\n",
      "15\n",
      "16\n",
      "17\n",
      "18\n",
      "19\n",
      "20\n",
      "21\n",
      "22\n",
      "23\n",
      "24\n",
      "25\n",
      "26\n",
      "27\n",
      "28\n",
      "29\n",
      "30\n",
      "31\n",
      "150\n",
      "0\n",
      "1\n",
      "2\n",
      "3\n",
      "4\n",
      "5\n",
      "6\n",
      "7\n",
      "8\n",
      "9\n",
      "10\n",
      "11\n",
      "12\n",
      "13\n",
      "14\n",
      "15\n",
      "16\n",
      "17\n",
      "18\n",
      "19\n",
      "20\n",
      "21\n",
      "22\n",
      "23\n",
      "24\n",
      "25\n",
      "26\n",
      "27\n",
      "28\n",
      "29\n",
      "30\n",
      "31\n",
      "180\n",
      "0\n",
      "1\n",
      "2\n",
      "3\n",
      "4\n",
      "5\n",
      "6\n",
      "7\n",
      "8\n",
      "9\n",
      "10\n",
      "11\n",
      "12\n",
      "13\n",
      "14\n",
      "15\n",
      "16\n",
      "17\n",
      "18\n",
      "19\n",
      "20\n",
      "21\n",
      "22\n",
      "23\n",
      "24\n",
      "25\n",
      "26\n",
      "27\n",
      "28\n",
      "29\n",
      "30\n",
      "31\n",
      "230\n",
      "0\n",
      "1\n",
      "2\n",
      "3\n",
      "4\n",
      "5\n",
      "6\n",
      "7\n",
      "8\n",
      "9\n",
      "10\n",
      "11\n",
      "12\n",
      "13\n",
      "14\n",
      "15\n",
      "16\n",
      "17\n",
      "18\n",
      "19\n",
      "20\n",
      "21\n",
      "22\n",
      "23\n",
      "24\n",
      "25\n",
      "26\n",
      "27\n",
      "28\n",
      "29\n",
      "30\n",
      "31\n",
      "300\n"
     ]
    },
    {
     "name": "stderr",
     "output_type": "stream",
     "text": [
      "Failed to find a Ghostscript installation.  Distillation step skipped.\n"
     ]
    },
    {
     "data": {
      "image/png": "[encoded data removed]",
      "text/plain": [
       "<Figure size 432x288 with 1 Axes>"
      ]
     },
     "metadata": {
      "needs_background": "light"
     },
     "output_type": "display_data"
    }
   ],
   "source": [
    "angle_names = ['clear','100','120','150','180','230','300']\n",
    "N_list = [104,106,104,105,105,105,106]\n",
    "\n",
    "angles = [float(angle) if angle != 'clear' else 90 for angle in angle_names]\n",
    "angles = np.array(angles)-90\n",
    "normed_max_int = [intensity/max_ints[0] for intensity in max_ints]\n",
    "m = 0.00741 #0.0148 \n",
    "T = [10**(-m*theta) for theta in angles]\n",
    "\n",
    "#angle_names = ['0','100','110','120','140','160','180']\n",
    "#N_list = [110,110,110,110,110,110,110]\n",
    "\n",
    "max_ints = []\n",
    "\n",
    "for t,N,angle_name in zip(T,N_list,angle_names): \n",
    "    volts,mean,error,_,_ = mean_several_files(32,f'Int_{angle_name}\\Int_{angle_name}',N=N,to_print=False)\n",
    "    #volts,mean,error,_,_ = mean_several_files(3,f'Dag3\\Int{angle_name}\\Int{angle_name}',N=N,to_print=True)\n",
    "    \n",
    "    print(angle_name)\n",
    "    max_ints.append(max(mean))\n",
    "    \n",
    "    plt.plot(volts,mean/max_ints[0],label=f'{t:.2f}')\n",
    "plt.legend(frameon=False, bbox_to_anchor=(1.05, 1), loc=2)\n",
    "plt.xlabel(r'Driver voltage (V)')\n",
    "plt.ylabel(r'Relative intensity')\n",
    "plt.rcParams.update({'figure.autolayout': True})\n",
    "plt.savefig('Wheel.eps', format='eps')"
   ]
  },
  {
   "cell_type": "code",
   "execution_count": 121,
   "metadata": {},
   "outputs": [
    {
     "data": {
      "text/plain": [
       "[<matplotlib.lines.Line2D at 0x1aa07c5b248>]"
      ]
     },
     "execution_count": 121,
     "metadata": {},
     "output_type": "execute_result"
    },
    {
     "data": {
      "image/png": "[encoded data removed]",
      "text/plain": [
       "<Figure size 432x288 with 1 Axes>"
      ]
     },
     "metadata": {
      "needs_background": "light"
     },
     "output_type": "display_data"
    }
   ],
   "source": [
    "\n",
    "#T = [i**2 for i in T]\n",
    "plt.plot(T,normed_max_int,'o')"
   ]
  },
  {
   "cell_type": "code",
   "execution_count": null,
   "metadata": {},
   "outputs": [],
   "source": []
  }
 ],
 "metadata": {
  "kernelspec": {
   "display_name": "Python 3",
   "language": "python",
   "name": "python3"
  },
  "language_info": {
   "codemirror_mode": {
    "name": "ipython",
    "version": 3
   },
   "file_extension": ".py",
   "mimetype": "text/x-python",
   "name": "python",
   "nbconvert_exporter": "python",
   "pygments_lexer": "ipython3",
   "version": "3.7.9"
  }
 },
 "nbformat": 4,
 "nbformat_minor": 4
}
