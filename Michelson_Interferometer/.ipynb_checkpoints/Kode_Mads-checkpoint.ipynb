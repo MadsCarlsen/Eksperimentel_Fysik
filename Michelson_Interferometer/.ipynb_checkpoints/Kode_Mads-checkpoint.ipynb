{
 "cells": [
  {
   "cell_type": "code",
   "execution_count": 31,
   "metadata": {},
   "outputs": [],
   "source": [
    "import numpy as np\n",
    "import matplotlib.pyplot as plt\n",
    "from scipy.signal import find_peaks"
   ]
  },
  {
   "cell_type": "code",
   "execution_count": 418,
   "metadata": {},
   "outputs": [],
   "source": [
    "def load_file(name): \n",
    "    data = np.loadtxt('data/Test2/' + name + '.csv',skiprows=2,delimiter=',').T \n",
    "    return data\n",
    "\n",
    "def find_slopes(top, bot):\n",
    "    rise = []\n",
    "    fall = []\n",
    "    first_rising = top[0] > bot[0]          \n",
    "    last_rising = top[-1] > bot[-1]\n",
    "    max_len = max(len(top), len(bot))\n",
    "    if first_rising and last_rising:\n",
    "        fall = [(top[i], bot[i+1]) for i in range(max_len - 1)]\n",
    "        rise = [(bot[i], top[i] ) for i in range(max_len)]\n",
    "    elif first_rising and not last_rising:\n",
    "        fall = [(top[i], bot[i+1]) for i in range(max_len - 1)]\n",
    "        rise = [(bot[i],top[i]) for i in range(max_len - 1)]\n",
    "    elif not first_rising and not last_rising:\n",
    "        fall = [(top[i], bot[i]) for i in range(max_len)]\n",
    "        rise = [(bot[i],top[i+1]) for i in range(max_len - 1)]\n",
    "    elif not first_rising and last_rising:\n",
    "        fall = [(top[i], bot[i]) for i in range(max_len - 1)]\n",
    "        rise = [(bot[i],top[i+1]) for i in range(max_len -1)]\n",
    "    else:\n",
    "        print('You fucked it up fam')\n",
    "    return rise, fall\n",
    "\n",
    "def slope_intensity(slope,volt,intensity): \n",
    "    volt_slope = volt[slope[0]:slope[1]+1]\n",
    "    intensity_slope = intensity[slope[0]:slope[1]+1]\n",
    "    unique_volt = sorted(list(set(volt_slope)))\n",
    "    slope_int = [[intensity_slope[i] for i,volt_j in enumerate(volt_slope) if volt_j == volt_i] for volt_i in unique_volt]\n",
    "    return slope_int, unique_volt\n",
    "\n",
    "def mean_slopes(slope_list,volt,intensity): \n",
    "    mean_list = []\n",
    "    error_list = []\n",
    "    slope_ints = []\n",
    "    for slope in slope_list: \n",
    "        s_int,unique_volt = slope_intensity(slope,volt,intensity)\n",
    "        slope_ints.append(s_int)\n",
    "    slope_ints = np.array(slope_ints,dtype='object')\n",
    "    \n",
    "    for i in range(len(slope_ints)): \n",
    "        data = [j for sublist in slope_ints[:,i].tolist() for j in sublist]\n",
    "        mean_list.append(np.mean(data))\n",
    "        error_list.append(np.std(data,ddof=1)/np.sqrt(len(data)))\n",
    "    return unique_volt,mean_list,error_list \n",
    "\n",
    "def mean_several_files(max_file_num): \n",
    "    rise_ints = []\n",
    "    fall_ints = []\n",
    "    for i in range(max_file_num): \n",
    "        print(i)\n",
    "        \n",
    "        if i < 9: \n",
    "            time,intensity,volt = load_file(f'Test2_0{i+1}')\n",
    "        else: \n",
    "            time,intensity,volt = load_file(f'Test2_{i+1}')\n",
    "        if len(volt) < 1000:\n",
    "            continue \n",
    "        else: \n",
    "            max_peaks = find_peaks(volt,distance=1000,width=100)[0]\n",
    "            min_peaks = find_peaks(-1*volt,distance=1000,width=100)[0]\n",
    "            rise_slopes,fall_slopes = find_slopes(max_peaks,min_peaks)\n",
    "\n",
    "            for rise in rise_slopes:\n",
    "                s_int,unique_volt = slope_intensity(rise,volt,intensity)\n",
    "                if len(unique_volt) == 92:\n",
    "                    rise_ints.append(s_int)\n",
    "                #print(f'Rise:{len(unique_volt)}')\n",
    "                \n",
    "            for fall in fall_slopes: \n",
    "                s_int,unique_volt = slope_intensity(fall,volt,intensity)\n",
    "                if len(unique_volt) == 92:\n",
    "                    fall_ints.append(s_int)\n",
    "                #print(f'Fall:{len(unique_volt)}')\n",
    "            \n",
    "    rise_mean = np.mean(rise_ints,axis=0)\n",
    "    rise_error = np.std(rise_ints,ddof=1,axis=0)/np.sqrt(len(rise_ints))\n",
    "    fall_mean = np.mean(fall_ints,axis=0)\n",
    "    fall_error = np.std(fall_ints,ddof=1,axis=0)/np.sqrt(len(fall_ints))\n",
    "    return unique_volt,rise_mean,rise_error,fall_mean,fall_error"
   ]
  },
  {
   "cell_type": "code",
   "execution_count": 379,
   "metadata": {},
   "outputs": [
    {
     "name": "stdout",
     "output_type": "stream",
     "text": [
      "0\n",
      "1\n",
      "2\n",
      "3\n",
      "4\n",
      "5\n",
      "6\n",
      "7\n",
      "8\n",
      "9\n",
      "10\n",
      "11\n",
      "12\n",
      "13\n",
      "14\n",
      "15\n",
      "16\n",
      "17\n",
      "18\n",
      "19\n",
      "20\n",
      "21\n",
      "22\n",
      "23\n",
      "24\n",
      "25\n",
      "26\n",
      "27\n",
      "28\n",
      "29\n",
      "30\n",
      "31\n"
     ]
    }
   ],
   "source": [
    "v_list,rise_mean,rise_error,fall_mean,fall_error = mean_several_files(32)"
   ]
  },
  {
   "cell_type": "code",
   "execution_count": 380,
   "metadata": {},
   "outputs": [
    {
     "data": {
      "text/plain": [
       "<ErrorbarContainer object of 3 artists>"
      ]
     },
     "execution_count": 380,
     "metadata": {},
     "output_type": "execute_result"
    },
    {
     "data": {
      "image/png": "[encoded data removed]",
      "text/plain": [
       "<Figure size 432x288 with 1 Axes>"
      ]
     },
     "metadata": {
      "needs_background": "light"
     },
     "output_type": "display_data"
    }
   ],
   "source": [
    "plt.errorbar(v_list,rise_mean,yerr=rise_error,fmt='o',ms=5,lw=2,capsize=3)\n",
    "plt.errorbar(v_list,fall_mean,yerr=fall_error,fmt='o',ms=5,lw=2,capsize=3)"
   ]
  },
  {
   "cell_type": "code",
   "execution_count": 419,
   "metadata": {},
   "outputs": [],
   "source": [
    "time,intensity,volt = load_file('Test2_01')"
   ]
  },
  {
   "cell_type": "code",
   "execution_count": 420,
   "metadata": {},
   "outputs": [],
   "source": [
    "max_peaks = find_peaks(volt,distance=1000,width=100)[0]\n",
    "min_peaks = find_peaks(-1*volt,distance=100,width=100)[0]\n",
    "\n",
    "rise,fall = find_slopes(max_peaks,min_peaks)\n",
    "test = fall[1]\n",
    "\n",
    "#plt.plot(time[max_peaks],volt[max_peaks],'o')\n",
    "#plt.plot(time[test[0]:test[1]+1],volt[test[0]:test[1]+1])\n",
    "#plt.plot(volt[test[0]:test[1]+1],intensity[test[0]:test[1]+1],'.')\n",
    "#plt.plot(volt[test1[0]:test1[1]+1],intensity[test1[0]:test1[1]+1],'.')"
   ]
  },
  {
   "cell_type": "code",
   "execution_count": 421,
   "metadata": {},
   "outputs": [],
   "source": [
    "v_list,mean,error = mean_slopes(fall,volt,intensity)"
   ]
  },
  {
   "cell_type": "code",
   "execution_count": 423,
   "metadata": {},
   "outputs": [
    {
     "name": "stdout",
     "output_type": "stream",
     "text": [
      "4\n"
     ]
    },
    {
     "ename": "ValueError",
     "evalue": "'x' and 'y' must have the same size",
     "output_type": "error",
     "traceback": [
      "\u001b[1;31m---------------------------------------------------------------------------\u001b[0m",
      "\u001b[1;31mValueError\u001b[0m                                Traceback (most recent call last)",
      "\u001b[1;32m<ipython-input-423-3be226a29e68>\u001b[0m in \u001b[0;36m<module>\u001b[1;34m\u001b[0m\n\u001b[0;32m      1\u001b[0m \u001b[0mprint\u001b[0m\u001b[1;33m(\u001b[0m\u001b[0mlen\u001b[0m\u001b[1;33m(\u001b[0m\u001b[0mmean\u001b[0m\u001b[1;33m)\u001b[0m\u001b[1;33m)\u001b[0m\u001b[1;33m\u001b[0m\u001b[1;33m\u001b[0m\u001b[0m\n\u001b[1;32m----> 2\u001b[1;33m \u001b[0mplt\u001b[0m\u001b[1;33m.\u001b[0m\u001b[0merrorbar\u001b[0m\u001b[1;33m(\u001b[0m\u001b[0mv_list\u001b[0m\u001b[1;33m,\u001b[0m\u001b[0mmean\u001b[0m\u001b[1;33m,\u001b[0m\u001b[0myerr\u001b[0m\u001b[1;33m=\u001b[0m\u001b[0merror\u001b[0m\u001b[1;33m,\u001b[0m\u001b[0mfmt\u001b[0m\u001b[1;33m=\u001b[0m\u001b[1;34m'o'\u001b[0m\u001b[1;33m,\u001b[0m\u001b[0mms\u001b[0m\u001b[1;33m=\u001b[0m\u001b[1;36m5\u001b[0m\u001b[1;33m,\u001b[0m\u001b[0mlw\u001b[0m\u001b[1;33m=\u001b[0m\u001b[1;36m2\u001b[0m\u001b[1;33m,\u001b[0m\u001b[0mcapsize\u001b[0m\u001b[1;33m=\u001b[0m\u001b[1;36m3\u001b[0m\u001b[1;33m)\u001b[0m\u001b[1;33m\u001b[0m\u001b[1;33m\u001b[0m\u001b[0m\n\u001b[0m",
      "\u001b[1;32mC:\\Anaconda3\\lib\\site-packages\\matplotlib\\pyplot.py\u001b[0m in \u001b[0;36merrorbar\u001b[1;34m(x, y, yerr, xerr, fmt, ecolor, elinewidth, capsize, barsabove, lolims, uplims, xlolims, xuplims, errorevery, capthick, data, **kwargs)\u001b[0m\n\u001b[0;32m   2607\u001b[0m         \u001b[0mlolims\u001b[0m\u001b[1;33m=\u001b[0m\u001b[0mlolims\u001b[0m\u001b[1;33m,\u001b[0m \u001b[0muplims\u001b[0m\u001b[1;33m=\u001b[0m\u001b[0muplims\u001b[0m\u001b[1;33m,\u001b[0m \u001b[0mxlolims\u001b[0m\u001b[1;33m=\u001b[0m\u001b[0mxlolims\u001b[0m\u001b[1;33m,\u001b[0m\u001b[1;33m\u001b[0m\u001b[1;33m\u001b[0m\u001b[0m\n\u001b[0;32m   2608\u001b[0m         \u001b[0mxuplims\u001b[0m\u001b[1;33m=\u001b[0m\u001b[0mxuplims\u001b[0m\u001b[1;33m,\u001b[0m \u001b[0merrorevery\u001b[0m\u001b[1;33m=\u001b[0m\u001b[0merrorevery\u001b[0m\u001b[1;33m,\u001b[0m \u001b[0mcapthick\u001b[0m\u001b[1;33m=\u001b[0m\u001b[0mcapthick\u001b[0m\u001b[1;33m,\u001b[0m\u001b[1;33m\u001b[0m\u001b[1;33m\u001b[0m\u001b[0m\n\u001b[1;32m-> 2609\u001b[1;33m         **({\"data\": data} if data is not None else {}), **kwargs)\n\u001b[0m\u001b[0;32m   2610\u001b[0m \u001b[1;33m\u001b[0m\u001b[0m\n\u001b[0;32m   2611\u001b[0m \u001b[1;33m\u001b[0m\u001b[0m\n",
      "\u001b[1;32mC:\\Anaconda3\\lib\\site-packages\\matplotlib\\__init__.py\u001b[0m in \u001b[0;36minner\u001b[1;34m(ax, data, *args, **kwargs)\u001b[0m\n\u001b[0;32m   1436\u001b[0m     \u001b[1;32mdef\u001b[0m \u001b[0minner\u001b[0m\u001b[1;33m(\u001b[0m\u001b[0max\u001b[0m\u001b[1;33m,\u001b[0m \u001b[1;33m*\u001b[0m\u001b[0margs\u001b[0m\u001b[1;33m,\u001b[0m \u001b[0mdata\u001b[0m\u001b[1;33m=\u001b[0m\u001b[1;32mNone\u001b[0m\u001b[1;33m,\u001b[0m \u001b[1;33m**\u001b[0m\u001b[0mkwargs\u001b[0m\u001b[1;33m)\u001b[0m\u001b[1;33m:\u001b[0m\u001b[1;33m\u001b[0m\u001b[1;33m\u001b[0m\u001b[0m\n\u001b[0;32m   1437\u001b[0m         \u001b[1;32mif\u001b[0m \u001b[0mdata\u001b[0m \u001b[1;32mis\u001b[0m \u001b[1;32mNone\u001b[0m\u001b[1;33m:\u001b[0m\u001b[1;33m\u001b[0m\u001b[1;33m\u001b[0m\u001b[0m\n\u001b[1;32m-> 1438\u001b[1;33m             \u001b[1;32mreturn\u001b[0m \u001b[0mfunc\u001b[0m\u001b[1;33m(\u001b[0m\u001b[0max\u001b[0m\u001b[1;33m,\u001b[0m \u001b[1;33m*\u001b[0m\u001b[0mmap\u001b[0m\u001b[1;33m(\u001b[0m\u001b[0msanitize_sequence\u001b[0m\u001b[1;33m,\u001b[0m \u001b[0margs\u001b[0m\u001b[1;33m)\u001b[0m\u001b[1;33m,\u001b[0m \u001b[1;33m**\u001b[0m\u001b[0mkwargs\u001b[0m\u001b[1;33m)\u001b[0m\u001b[1;33m\u001b[0m\u001b[1;33m\u001b[0m\u001b[0m\n\u001b[0m\u001b[0;32m   1439\u001b[0m \u001b[1;33m\u001b[0m\u001b[0m\n\u001b[0;32m   1440\u001b[0m         \u001b[0mbound\u001b[0m \u001b[1;33m=\u001b[0m \u001b[0mnew_sig\u001b[0m\u001b[1;33m.\u001b[0m\u001b[0mbind\u001b[0m\u001b[1;33m(\u001b[0m\u001b[0max\u001b[0m\u001b[1;33m,\u001b[0m \u001b[1;33m*\u001b[0m\u001b[0margs\u001b[0m\u001b[1;33m,\u001b[0m \u001b[1;33m**\u001b[0m\u001b[0mkwargs\u001b[0m\u001b[1;33m)\u001b[0m\u001b[1;33m\u001b[0m\u001b[1;33m\u001b[0m\u001b[0m\n",
      "\u001b[1;32mC:\\Anaconda3\\lib\\site-packages\\matplotlib\\axes\\_axes.py\u001b[0m in \u001b[0;36merrorbar\u001b[1;34m(self, x, y, yerr, xerr, fmt, ecolor, elinewidth, capsize, barsabove, lolims, uplims, xlolims, xuplims, errorevery, capthick, **kwargs)\u001b[0m\n\u001b[0;32m   3296\u001b[0m \u001b[1;33m\u001b[0m\u001b[0m\n\u001b[0;32m   3297\u001b[0m         \u001b[1;32mif\u001b[0m \u001b[0mlen\u001b[0m\u001b[1;33m(\u001b[0m\u001b[0mx\u001b[0m\u001b[1;33m)\u001b[0m \u001b[1;33m!=\u001b[0m \u001b[0mlen\u001b[0m\u001b[1;33m(\u001b[0m\u001b[0my\u001b[0m\u001b[1;33m)\u001b[0m\u001b[1;33m:\u001b[0m\u001b[1;33m\u001b[0m\u001b[1;33m\u001b[0m\u001b[0m\n\u001b[1;32m-> 3298\u001b[1;33m             \u001b[1;32mraise\u001b[0m \u001b[0mValueError\u001b[0m\u001b[1;33m(\u001b[0m\u001b[1;34m\"'x' and 'y' must have the same size\"\u001b[0m\u001b[1;33m)\u001b[0m\u001b[1;33m\u001b[0m\u001b[1;33m\u001b[0m\u001b[0m\n\u001b[0m\u001b[0;32m   3299\u001b[0m \u001b[1;33m\u001b[0m\u001b[0m\n\u001b[0;32m   3300\u001b[0m         \u001b[1;32mif\u001b[0m \u001b[0mxerr\u001b[0m \u001b[1;32mis\u001b[0m \u001b[1;32mnot\u001b[0m \u001b[1;32mNone\u001b[0m\u001b[1;33m:\u001b[0m\u001b[1;33m\u001b[0m\u001b[1;33m\u001b[0m\u001b[0m\n",
      "\u001b[1;31mValueError\u001b[0m: 'x' and 'y' must have the same size"
     ]
    },
    {
     "data": {
      "image/png": "[encoded data removed]",
      "text/plain": [
       "<Figure size 432x288 with 1 Axes>"
      ]
     },
     "metadata": {
      "needs_background": "light"
     },
     "output_type": "display_data"
    }
   ],
   "source": [
    "print(len(mean))\n",
    "print(len())\n",
    "plt.errorbar(v_list,mean,yerr=error,fmt='o',ms=5,lw=2,capsize=3)"
   ]
  },
  {
   "cell_type": "code",
   "execution_count": 417,
   "metadata": {},
   "outputs": [
    {
     "name": "stdout",
     "output_type": "stream",
     "text": [
      "[1, 2, 4, 4, 1, 2, 4]\n",
      "2\n"
     ]
    }
   ],
   "source": [
    "test = np.array([[[1,1,1],[1,2,4,4]],[[1,1,1],[1,2,4]]],dtype='object')\n",
    "ting = [i for sublist in test[:,1].tolist() for i in sublist]\n",
    "print(ting)\n",
    "print(len(test))"
   ]
  },
  {
   "cell_type": "code",
   "execution_count": 397,
   "metadata": {},
   "outputs": [
    {
     "data": {
      "text/plain": [
       "[[1, 2, 3], [2, 4, 5]]"
      ]
     },
     "execution_count": 397,
     "metadata": {},
     "output_type": "execute_result"
    }
   ],
   "source": [
    "ting = [[1,2,3],[2,4,5]]\n",
    "ting[:]"
   ]
  },
  {
   "cell_type": "code",
   "execution_count": null,
   "metadata": {},
   "outputs": [],
   "source": []
  }
 ],
 "metadata": {
  "kernelspec": {
   "display_name": "Python 3",
   "language": "python",
   "name": "python3"
  },
  "language_info": {
   "codemirror_mode": {
    "name": "ipython",
    "version": 3
   },
   "file_extension": ".py",
   "mimetype": "text/x-python",
   "name": "python",
   "nbconvert_exporter": "python",
   "pygments_lexer": "ipython3",
   "version": "3.7.9"
  }
 },
 "nbformat": 4,
 "nbformat_minor": 4
}
