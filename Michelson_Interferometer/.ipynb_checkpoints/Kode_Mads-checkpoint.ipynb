{
 "cells": [
  {
   "cell_type": "code",
   "execution_count": 1,
   "metadata": {},
   "outputs": [],
   "source": [
    "import numpy as np\n",
    "import matplotlib.pyplot as plt\n",
    "from scipy.signal import find_peaks"
   ]
  },
  {
   "cell_type": "code",
   "execution_count": 107,
   "metadata": {},
   "outputs": [],
   "source": [
    "def load_file(name): \n",
    "    #data = np.loadtxt('data/Test2/' + name + '.csv',skiprows=2,delimiter=',').T \n",
    "    data = np.loadtxt('E:\\Eksperimentel_fysik\\Michelson_interferometer\\Dag2_2\\\\' + name + '.csv',skiprows=2,delimiter=',').T\n",
    "    return data\n",
    "\n",
    "def find_slopes(top, bot):\n",
    "    rise = []\n",
    "    fall = []\n",
    "    first_rising = top[0] > bot[0]          \n",
    "    last_rising = top[-1] > bot[-1]\n",
    "    max_len = max(len(top), len(bot))\n",
    "    if first_rising and last_rising:\n",
    "        fall = [(top[i], bot[i+1]) for i in range(max_len - 1)]\n",
    "        rise = [(bot[i], top[i] ) for i in range(max_len)]\n",
    "    elif first_rising and not last_rising:\n",
    "        fall = [(top[i], bot[i+1]) for i in range(max_len - 1)]\n",
    "        rise = [(bot[i],top[i]) for i in range(max_len - 1)]\n",
    "    elif not first_rising and not last_rising:\n",
    "        fall = [(top[i], bot[i]) for i in range(max_len)]\n",
    "        rise = [(bot[i],top[i+1]) for i in range(max_len - 1)]\n",
    "    elif not first_rising and last_rising:\n",
    "        fall = [(top[i], bot[i]) for i in range(max_len - 1)]\n",
    "        rise = [(bot[i],top[i+1]) for i in range(max_len -1)]\n",
    "    else:\n",
    "        print('You fucked it up fam')\n",
    "    return rise, fall\n",
    "\n",
    "def slope_intensity(slope,volt,intensity): \n",
    "    volt_slope = volt[slope[0]:slope[1]+1]\n",
    "    intensity_slope = intensity[slope[0]:slope[1]+1]\n",
    "    unique_volt = sorted(list(set(volt_slope)))\n",
    "    slope_int = [np.mean([intensity_slope[i] for i,volt_j in enumerate(volt_slope) if volt_j == volt_i]) for volt_i in unique_volt]\n",
    "    return slope_int, unique_volt\n",
    "\n",
    "def mean_slopes(slope_list,volt,intensity): \n",
    "    slope_ints = []\n",
    "    for slope in slope_list: \n",
    "        s_int,unique_volt = slope_intensity(slope,volt,intensity)\n",
    "        slope_ints.append(s_int)\n",
    "    mean_slope = np.mean(slope_ints,axis=0)\n",
    "    error_slope = np.std(slope_ints,axis=0,ddof=1)/np.sqrt(len(slope_ints))\n",
    "    return unique_volt,mean_slope,error_slope\n",
    "\n",
    "def mean_several_files(max_file_num,file_name): \n",
    "    rise_ints = []\n",
    "    fall_ints = []\n",
    "    for i in range(max_file_num): \n",
    "        print(i)\n",
    "        \n",
    "        if i < 9: \n",
    "            time,intensity,volt = load_file(f'{file_name}_0{i+1}')\n",
    "        else: \n",
    "            time,intensity,volt = load_file(f'{file_name}_{i+1}')\n",
    "        if len(volt) < 1000:\n",
    "            continue \n",
    "        else: \n",
    "            max_peaks = find_peaks(volt,distance=1000,width=100)[0]\n",
    "            min_peaks = find_peaks(-1*volt,distance=1000,width=100)[0]\n",
    "            rise_slopes,fall_slopes = find_slopes(max_peaks,min_peaks)\n",
    "\n",
    "            for rise in rise_slopes:\n",
    "                s_int,unique_volt = slope_intensity(rise,volt,intensity)\n",
    "                if len(unique_volt) == 105:\n",
    "                    rise_ints.append(s_int)\n",
    "                #print(f'Rise:{len(unique_volt)}')\n",
    "                \n",
    "            for fall in fall_slopes: \n",
    "                s_int,unique_volt = slope_intensity(fall,volt,intensity)\n",
    "                if len(unique_volt) == 105:\n",
    "                    fall_ints.append(s_int)\n",
    "                #print(f'Fall:{len(unique_volt)}')\n",
    "            \n",
    "    rise_mean = np.mean(rise_ints,axis=0)\n",
    "    rise_error = np.std(rise_ints,ddof=1,axis=0)/np.sqrt(len(rise_ints))\n",
    "    fall_mean = np.mean(fall_ints,axis=0)\n",
    "    fall_error = np.std(fall_ints,ddof=1,axis=0)/np.sqrt(len(fall_ints))\n",
    "    return unique_volt,rise_mean,rise_error,fall_mean,fall_error"
   ]
  },
  {
   "cell_type": "code",
   "execution_count": 83,
   "metadata": {},
   "outputs": [],
   "source": [
    "#Funktioner til at finde peaks\n",
    "def slope_max(slope,volt,intensity): \n",
    "    volt_slope = volt[slope[0]:slope[1]+1]\n",
    "    intensity_slope = intensity[slope[0]:slope[1]+1]\n",
    "    unique_volt = np.array(sorted(list(set(volt_slope))))\n",
    "    slope_int = np.array([np.mean([intensity_slope[i] for i,volt_j in enumerate(volt_slope) if volt_j == volt_i]) for volt_i in unique_volt])\n",
    "    max_peaks = find_peaks(slope_int,distance=1,width=1)[0]\n",
    "    min_peaks = find_peaks(-1*slope_int,distance=1,width=1)[0]\n",
    "    int_to_sort = np.append(slope_int[max_peaks],slope_int[min_peaks])\n",
    "    volt_to_sort = np.append(unique_volt[max_peaks],unique_volt[min_peaks])\n",
    "    filter_list = np.argsort(volt_to_sort)\n",
    "    return int_to_sort[filter_list],volt_to_sort[filter_list]\n",
    "\n",
    "\n",
    "def max_several_files(max_file_num,file_name): \n",
    "    rise_max = []\n",
    "    fall_max = []\n",
    "    rise_volts = []\n",
    "    fall_volts = []\n",
    "    \n",
    "    for i in range(max_file_num): \n",
    "        print(i)\n",
    "        \n",
    "        if i < 9: \n",
    "            time,intensity,volt = load_file(f'{file_name}_0{i+1}')\n",
    "        else: \n",
    "            time,intensity,volt = load_file(f'{file_name}_{i+1}')\n",
    "        if len(volt) < 1000:\n",
    "            continue \n",
    "        else: \n",
    "            max_peaks = find_peaks(volt,distance=1000,width=100)[0]\n",
    "            min_peaks = find_peaks(-1*volt,distance=1000,width=100)[0]\n",
    "            rise_slopes,fall_slopes = find_slopes(max_peaks,min_peaks)\n",
    "\n",
    "            for rise in rise_slopes:\n",
    "                int_max,volt_max = slope_max(rise,volt,intensity)\n",
    "                if len(volt_max) == 10:\n",
    "                    rise_max.append(int_max)\n",
    "                    rise_volts.append(volt_max)\n",
    "                #print(f'Rise:{len(volt_max)}')\n",
    "                \n",
    "            for fall in fall_slopes: \n",
    "                int_max,volt_max = slope_max(fall,volt,intensity)\n",
    "                if len(volt_max) == 10:\n",
    "                    fall_max.append(int_max)\n",
    "                    fall_volts.append(volt_max)\n",
    "                #print(f'Fall:{len(volt_max)}')\n",
    "            \n",
    "    rise_mean = np.mean(rise_max,axis=0)\n",
    "    rise_error = np.std(rise_max,ddof=1,axis=0)/np.sqrt(len(rise_max))\n",
    "    fall_mean = np.mean(fall_max,axis=0)\n",
    "    fall_error = np.std(fall_max,ddof=1,axis=0)/np.sqrt(len(fall_max))\n",
    "    volt_rise_mean = np.mean(rise_volts,axis=0)\n",
    "    rise_volt_error = np.std(rise_volts,ddof=1,axis=0)/np.sqrt(len(rise_volts))\n",
    "    volt_fall_mean = np.mean(fall_volts,axis=0)\n",
    "    fall_volt_error = np.std(fall_volts,ddof=1,axis=0)/np.sqrt(len(fall_volts))\n",
    "    print(f'Nr. of datapoints: {len(rise_max)}')\n",
    "    return volt_rise_mean,rise_volt_error,volt_fall_mean,fall_volt_error,rise_mean,rise_error,fall_mean,fall_error\n"
   ]
  },
  {
   "cell_type": "code",
   "execution_count": 109,
   "metadata": {},
   "outputs": [
    {
     "name": "stdout",
     "output_type": "stream",
     "text": [
      "0\n",
      "1\n",
      "2\n",
      "3\n",
      "4\n",
      "5\n",
      "6\n",
      "7\n",
      "8\n",
      "9\n",
      "Nr. of datapoints: 45\n"
     ]
    }
   ],
   "source": [
    "volt_rise,volt_rise_error,volt_fall,volt_fall_error,rise_max,\\\n",
    "rise_max_error,fall_max,fall_max_error = max_several_files(10,'Dag2_2')"
   ]
  },
  {
   "cell_type": "code",
   "execution_count": 87,
   "metadata": {},
   "outputs": [
    {
     "name": "stdout",
     "output_type": "stream",
     "text": [
      "0\n",
      "1\n"
     ]
    }
   ],
   "source": [
    "v_list,rise_mean,rise_error,fall_mean,fall_error = mean_several_files(2,'Dag2_2')"
   ]
  },
  {
   "cell_type": "code",
   "execution_count": 98,
   "metadata": {},
   "outputs": [
    {
     "name": "stdout",
     "output_type": "stream",
     "text": [
      "[0.01152737 0.00886436 0.0073408  0.00904685 0.00889941 0.00379267\n",
      " 0.00679409 0.00652678 0.00422107 0.01996548]\n"
     ]
    },
    {
     "data": {
      "image/png": "[encoded data removed]",
      "text/plain": [
       "<Figure size 432x288 with 1 Axes>"
      ]
     },
     "metadata": {
      "needs_background": "light"
     },
     "output_type": "display_data"
    }
   ],
   "source": [
    "v_list = np.array(v_list)\n",
    "rise_mean = np.array(rise_mean)\n",
    "\n",
    "plt.errorbar(v_list,rise_mean,yerr=rise_error,fmt='o',ms=5,lw=2,capsize=3)\n",
    "plt.errorbar(v_list,fall_mean,yerr=fall_error,fmt='o',ms=5,lw=2,capsize=3)\n",
    "plt.errorbar(volt_fall,fall_max,xerr=volt_fall_error,yerr=fall_max_error,fmt='o',ms=5,lw=2,capsize=3)"
   ]
  },
  {
   "cell_type": "code",
   "execution_count": 112,
   "metadata": {},
   "outputs": [
    {
     "data": {
      "text/plain": [
       "[<matplotlib.lines.Line2D at 0x2caccd92288>]"
      ]
     },
     "execution_count": 112,
     "metadata": {},
     "output_type": "execute_result"
    },
    {
     "data": {
      "image/png": "[encoded data removed]",
      "text/plain": [
       "<Figure size 432x288 with 1 Axes>"
      ]
     },
     "metadata": {
      "needs_background": "light"
     },
     "output_type": "display_data"
    }
   ],
   "source": [
    "lambd = 633*1e-3 #µm\n",
    "dl_rise = [(i+1)*lambd/4 for i in range(len(rise_max))]\n",
    "dl_fall = [(i+1)*lambd/4 for i in range(len(fall_max))]\n",
    "\n",
    "plt.plot(volt_rise,dl_rise,'--o')\n",
    "plt.plot(volt_fall,dl_fall,'--o')"
   ]
  },
  {
   "cell_type": "code",
   "execution_count": 54,
   "metadata": {},
   "outputs": [
    {
     "data": {
      "text/plain": [
       "[<matplotlib.lines.Line2D at 0x2cac8a29708>]"
      ]
     },
     "execution_count": 54,
     "metadata": {},
     "output_type": "execute_result"
    },
    {
     "data": {
      "image/png": "[encoded data removed]",
      "text/plain": [
       "<Figure size 432x288 with 1 Axes>"
      ]
     },
     "metadata": {
      "needs_background": "light"
     },
     "output_type": "display_data"
    }
   ],
   "source": [
    "max_peaks = find_peaks(volt,distance=1000,width=100)[0]\n",
    "min_peaks = find_peaks(-1*volt,distance=100,width=100)[0]\n",
    "\n",
    "rise,fall = find_slopes(max_peaks,min_peaks)\n",
    "test = fall[1]\n",
    "\n",
    "plt.plot(time[max_peaks],volt[max_peaks],'o')\n",
    "#plt.plot(time[test[0]:test[1]+1],volt[test[0]:test[1]+1])\n",
    "#plt.plot(volt[test[0]:test[1]+1],intensity[test[0]:test[1]+1],'.')\n",
    "#plt.plot(volt[test1[0]:test1[1]+1],intensity[test1[0]:test1[1]+1],'.')"
   ]
  },
  {
   "cell_type": "code",
   "execution_count": 8,
   "metadata": {},
   "outputs": [],
   "source": [
    "v_list,mean,error = mean_slopes(fall,volt,intensity)"
   ]
  }
 ],
 "metadata": {
  "kernelspec": {
   "display_name": "Python 3",
   "language": "python",
   "name": "python3"
  },
  "language_info": {
   "codemirror_mode": {
    "name": "ipython",
    "version": 3
   },
   "file_extension": ".py",
   "mimetype": "text/x-python",
   "name": "python",
   "nbconvert_exporter": "python",
   "pygments_lexer": "ipython3",
   "version": "3.7.9"
  }
 },
 "nbformat": 4,
 "nbformat_minor": 4
}
