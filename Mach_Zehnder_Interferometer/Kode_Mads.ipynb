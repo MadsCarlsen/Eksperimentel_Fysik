{
 "cells": [
  {
   "cell_type": "code",
   "execution_count": 54,
   "metadata": {},
   "outputs": [],
   "source": [
    "import numpy as np\n",
    "import matplotlib.pyplot as plt \n",
    "from scipy.optimize import curve_fit\n",
    "from scipy.signal import find_peaks"
   ]
  },
  {
   "cell_type": "markdown",
   "metadata": {},
   "source": [
    "Data tryk! "
   ]
  },
  {
   "cell_type": "code",
   "execution_count": 10,
   "metadata": {},
   "outputs": [],
   "source": [
    "#p = np.array([0.25,0.5,0.75,1.0,1.5])\n",
    "#m = [17,29,39,50,73]\n",
    "\n",
    "p = [1, 0.5, 0.75,0.25, 0.6, 0.8]\n",
    "m = [[46,47,46,44,46],[24,23,21,20,21,22,22,21],[35,34,32,30,31,34,36,34,34],[11,11,12,12,11],[28,26,25,26,27],[35,36,35,35,37]]\n",
    "y_error = [np.std(i,ddof=1)/np.sqrt(len(i)) for i in m] #Skal have fejl for tælletal? \n",
    "m = [np.mean(i) for i in m]\n",
    "x_error = [0.05 if i!=0 else 0.125/2 for i in range(len(m))]\n",
    "\n",
    "#[34,36]"
   ]
  },
  {
   "cell_type": "code",
   "execution_count": 11,
   "metadata": {},
   "outputs": [
    {
     "name": "stdout",
     "output_type": "stream",
     "text": [
      "[ 4.57671568e+01 -1.53260489e-02]\n",
      "1.0002329145093614\n"
     ]
    },
    {
     "data": {
      "text/plain": [
       "[<matplotlib.lines.Line2D at 0x24705c31f08>]"
      ]
     },
     "execution_count": 11,
     "metadata": {},
     "output_type": "execute_result"
    },
    {
     "data": {
      "image/png": "[encoded data removed]",
      "text/plain": [
       "<Figure size 432x288 with 1 Axes>"
      ]
     },
     "metadata": {
      "needs_background": "light"
     },
     "output_type": "display_data"
    }
   ],
   "source": [
    "l = 0.063 #m\n",
    "lambd = 633e-9 #m\n",
    "\n",
    "\n",
    "def fit_func(x,a,b): \n",
    "    return a*(p+b)\n",
    "\n",
    "p_opt, p_cov = curve_fit(fit_func,p,m)\n",
    "\n",
    "print(p_opt)\n",
    "print(p_opt[0]*lambd/(2*l)*1.013+1)\n",
    "\n",
    "plt.errorbar(p,m,yerr=y_error,xerr=x_error,fmt='o',ms=5,lw=2,capsize=3)\n",
    "plt.plot(p,fit_func(p,p_opt[0],p_opt[1]))\n"
   ]
  },
  {
   "cell_type": "markdown",
   "metadata": {},
   "source": [
    "Data til Wave-plate!"
   ]
  },
  {
   "cell_type": "code",
   "execution_count": 52,
   "metadata": {},
   "outputs": [],
   "source": [
    "def load_file(name): \n",
    "    data = np.loadtxt('data/' + name + '.csv',skiprows=2,delimiter=',').T \n",
    "    #data = np.loadtxt('E:\\Eksperimentel_fysik\\Michelson_interferometer\\\\' + name + '.csv',skiprows=2,delimiter=',').T\n",
    "    return data\n",
    "\n",
    "def find_slopes(top, bot):\n",
    "    rise = []\n",
    "    fall = []\n",
    "    first_rising = top[0] > bot[0]          \n",
    "    last_rising = top[-1] > bot[-1]\n",
    "    max_len = max(len(top), len(bot))\n",
    "    if first_rising and last_rising:\n",
    "        fall = [(top[i], bot[i+1]) for i in range(max_len - 1)]\n",
    "        rise = [(bot[i], top[i] ) for i in range(max_len)]\n",
    "    elif first_rising and not last_rising:\n",
    "        fall = [(top[i], bot[i+1]) for i in range(max_len - 1)]\n",
    "        rise = [(bot[i],top[i]) for i in range(max_len - 1)]\n",
    "    elif not first_rising and not last_rising:\n",
    "        fall = [(top[i], bot[i]) for i in range(max_len)]\n",
    "        rise = [(bot[i],top[i+1]) for i in range(max_len - 1)]\n",
    "    elif not first_rising and last_rising:\n",
    "        fall = [(top[i], bot[i]) for i in range(max_len - 1)]\n",
    "        rise = [(bot[i],top[i+1]) for i in range(max_len -1)]\n",
    "    else:\n",
    "        print('You fucked it up fam')\n",
    "    return rise, fall\n",
    "\n",
    "def slope_intensity(slope,volt,intensity): \n",
    "    volt_slope = volt[slope[0]:slope[1]+1]\n",
    "    intensity_slope = intensity[slope[0]:slope[1]+1]\n",
    "    unique_volt = sorted(list(set(volt_slope)))\n",
    "    slope_int = [np.mean([intensity_slope[i] for i,volt_j in enumerate(volt_slope) if volt_j == volt_i]) for volt_i in unique_volt]\n",
    "    return slope_int, unique_volt\n",
    "\n",
    "def mean_several_files(max_file_num,file_name,N,to_print=False): \n",
    "    rise_ints = []\n",
    "    volt_to_return = []\n",
    "    for i in range(max_file_num): \n",
    "        print(i)\n",
    "        \n",
    "        if i < 9: \n",
    "            time,intensity,volt = load_file(f'{file_name}_0{i+1}')\n",
    "        else: \n",
    "            time,intensity,volt = load_file(f'{file_name}_{i+1}')\n",
    "        if len(volt) < 1000:\n",
    "            continue \n",
    "        else: \n",
    "            max_peaks = find_peaks(volt,distance=1000,width=100)[0]\n",
    "            min_peaks = find_peaks(-1*volt,distance=1000,width=100)[0]\n",
    "            rise_slopes,fall_slopes = find_slopes(max_peaks,min_peaks)\n",
    "\n",
    "            for rise in rise_slopes:\n",
    "                s_int,unique_volt = slope_intensity(rise,volt,intensity)\n",
    "                if len(unique_volt) == N:\n",
    "                    rise_ints.append(s_int)\n",
    "                    volt_to_return = unique_volt\n",
    "                if to_print: \n",
    "                    print(f'Rise:{len(unique_volt)}')\n",
    "                \n",
    "    rise_mean = np.mean(rise_ints,axis=0)\n",
    "    rise_error = np.std(rise_ints,ddof=1,axis=0)/np.sqrt(len(rise_ints))\n",
    "    return volt_to_return,rise_mean,rise_error\n",
    "\n",
    "\n",
    "def find_N(max_file_num,file_name): \n",
    "    def most_frequent(List):\n",
    "        return max(set(List), key = List.count)\n",
    "    \n",
    "    N_list = []\n",
    "    \n",
    "    for i in range(max_file_num): \n",
    "        print(i)\n",
    "        \n",
    "        if i < 9: \n",
    "            time,intensity,volt = load_file(f'{file_name}_0{i+1}')\n",
    "        else: \n",
    "            time,intensity,volt = load_file(f'{file_name}_{i+1}')\n",
    "        if len(volt) < 1000:\n",
    "            continue \n",
    "        else: \n",
    "            max_peaks = find_peaks(volt,distance=1000,width=100)[0]\n",
    "            min_peaks = find_peaks(-1*volt,distance=1000,width=100)[0]\n",
    "            rise_slopes,fall_slopes = find_slopes(max_peaks,min_peaks)\n",
    "\n",
    "            for rise in rise_slopes:\n",
    "                s_int,unique_volt = slope_intensity(rise,volt,intensity)\n",
    "                N_list.append(len(unique_volt))\n",
    "    return most_frequent(N_list)"
   ]
  },
  {
   "cell_type": "code",
   "execution_count": 94,
   "metadata": {},
   "outputs": [],
   "source": [
    "def Gauss_fit(x,y,y_err,guess,to_plot=False): \n",
    "    def Gauss(x,a,b,c): \n",
    "        return a*np.exp(-(x-b)**2/(2*c**2))\n",
    "    p_opt, p_cov = curve_fit(Gauss,x,y,p0=guess, sigma=y_err, absolute_sigma=True)\n",
    "    p_err = np.sqrt(np.diag(p_cov))\n",
    "    \n",
    "    if to_plot: \n",
    "        plt.plot(x,y)\n",
    "        plt.plot(x,Gauss(x,p_opt[0],p_opt[1],p_opt[2]))\n",
    "    return p_opt[0],p_err[0] #Retunerer middelværdien! \n",
    "\n",
    "\n",
    "def find_single_max(x,y,y_err,peak_nr=1,width=5,to_plot=False): \n",
    "    peaks = find_peaks(y,width=2)[0]\n",
    "    peak = peaks[peak_nr]\n",
    "\n",
    "    y_fit = y[peak-width:peak+width+1]\n",
    "    x_fit = x[peak-width:peak+width+1]\n",
    "    y_fit_err = y_err[peak-width:peak+width+1]\n",
    "    guess = [x[peak],5,5]\n",
    "    mean,mean_err = Gauss_fit(x_fit,y_fit,y_fit_err,guess,to_plot=to_plot)\n",
    "    return mean,mean_err\n",
    "        \n",
    "    \n",
    "def find_max(x,y,y_err,width=5): \n",
    "    mean_list = []\n",
    "    error_list = []\n",
    "    \n",
    "    peaks = find_peaks(y,width=2)[0]\n",
    "\n",
    "    for peak in peaks: \n",
    "        if peak+1 < 6 or len(x)-peak+1 < 6: \n",
    "            width = min(peak,len(x)-peak+1)\n",
    "        y_fit = y[peak-width:peak+width+1]\n",
    "        x_fit = x[peak-width:peak+width+1]\n",
    "        y_fit_err = y_err[peak-width:peak+width+1]\n",
    "        guess = [x[peak],5,5]\n",
    "        mean,mean_err = Gauss_fit(x_fit,y_fit,y_fit_err,guess)\n",
    "        mean_list.append(mean)\n",
    "        error_list.append(mean_err)\n",
    "        \n",
    "    mean_list = np.array(mean_list)\n",
    "    error_list = np.array(error_list)\n",
    "    filter_list = np.argsort(mean_list)\n",
    "    mean_list = mean_list[filter_list]\n",
    "    error_list = error_list[filter_list]\n",
    "    return mean_list,error_list"
   ]
  },
  {
   "cell_type": "code",
   "execution_count": 80,
   "metadata": {},
   "outputs": [
    {
     "name": "stdout",
     "output_type": "stream",
     "text": [
      "0\n",
      "1\n",
      "2\n",
      "3\n",
      "4\n",
      "0\n",
      "1\n",
      "2\n",
      "3\n",
      "4\n",
      "[92, 92]\n"
     ]
    }
   ],
   "source": [
    "angles = ['Test1','Test2']\n",
    "N_list = []\n",
    "\n",
    "for angle in angles: \n",
    "    N_list.append(find_N(5,f'{angle}/{angle}'))\n",
    "print(N_list)"
   ]
  },
  {
   "cell_type": "code",
   "execution_count": 88,
   "metadata": {},
   "outputs": [
    {
     "name": "stdout",
     "output_type": "stream",
     "text": [
      "0\n",
      "1\n",
      "2\n",
      "3\n",
      "4\n",
      "[11 39 68]\n",
      "39\n"
     ]
    },
    {
     "data": {
      "text/plain": [
       "(5.788216342591543, 0.008026324027098193)"
      ]
     },
     "execution_count": 88,
     "metadata": {},
     "output_type": "execute_result"
    },
    {
     "data": {
      "image/png": "[encoded data removed]",
      "text/plain": [
       "<Figure size 432x288 with 1 Axes>"
      ]
     },
     "metadata": {
      "needs_background": "light"
     },
     "output_type": "display_data"
    }
   ],
   "source": [
    "volts, mean, error = mean_several_files(5,f'{angles[0]}/{angles[0]}',N=N,to_print=False)\n",
    "find_single_max(volts,mean,error)\n",
    "\n",
    "#plt.plot(volts,mean)"
   ]
  },
  {
   "cell_type": "code",
   "execution_count": 98,
   "metadata": {},
   "outputs": [
    {
     "name": "stdout",
     "output_type": "stream",
     "text": [
      "0\n",
      "1\n",
      "2\n",
      "3\n",
      "4\n",
      "5.788216342591543\n",
      "0\n",
      "1\n",
      "2\n",
      "3\n",
      "4\n",
      "5.728692910486519\n"
     ]
    },
    {
     "data": {
      "image/png": "[encoded data removed]",
      "text/plain": [
       "<Figure size 432x288 with 1 Axes>"
      ]
     },
     "metadata": {
      "needs_background": "light"
     },
     "output_type": "display_data"
    }
   ],
   "source": [
    "max_ints = []\n",
    "max_error = []\n",
    "\n",
    "for N,angle_name in zip(N_list,angles): \n",
    "    volts,mean,error = mean_several_files(5,f'{angle_name}/{angle_name}',N=N,to_print=False)\n",
    "    top_int,top_error = find_single_max(volts,mean,error,to_plot=False)\n",
    "    max_ints.append(top_ints)\n",
    "    max_error.append(top_error)\n",
    "    plt.plot(volts,mean)"
   ]
  },
  {
   "cell_type": "code",
   "execution_count": null,
   "metadata": {},
   "outputs": [],
   "source": []
  }
 ],
 "metadata": {
  "kernelspec": {
   "display_name": "Python 3",
   "language": "python",
   "name": "python3"
  },
  "language_info": {
   "codemirror_mode": {
    "name": "ipython",
    "version": 3
   },
   "file_extension": ".py",
   "mimetype": "text/x-python",
   "name": "python",
   "nbconvert_exporter": "python",
   "pygments_lexer": "ipython3",
   "version": "3.7.9"
  }
 },
 "nbformat": 4,
 "nbformat_minor": 4
}
